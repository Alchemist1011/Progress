{
 "cells": [
  {
   "cell_type": "markdown",
   "metadata": {},
   "source": [
    "##  Report(12 july 22)"
   ]
  },
  {
   "cell_type": "markdown",
   "metadata": {},
   "source": [
    "**Variable**"
   ]
  },
  {
   "cell_type": "code",
   "execution_count": 5,
   "metadata": {},
   "outputs": [
    {
     "name": "stdout",
     "output_type": "stream",
     "text": [
      "5\n",
      "<class 'int'>\n",
      "This is a variable\n",
      "<class 'str'>\n"
     ]
    }
   ],
   "source": [
    "x=5 #numeric variable\n",
    "y='This is a variable' #nstring variable\n",
    "print(x)\n",
    "print(type(x))\n",
    "print(y)\n",
    "print(type(y))"
   ]
  },
  {
   "cell_type": "markdown",
   "metadata": {},
   "source": [
    "***Input Variable***"
   ]
  },
  {
   "cell_type": "code",
   "execution_count": 7,
   "metadata": {},
   "outputs": [
    {
     "name": "stdout",
     "output_type": "stream",
     "text": [
      "name  Usman.\n"
     ]
    }
   ],
   "source": [
    "n=input('name  ')"
   ]
  },
  {
   "cell_type": "code",
   "execution_count": 9,
   "metadata": {},
   "outputs": [
    {
     "name": "stdout",
     "output_type": "stream",
     "text": [
      "nameUsman\n",
      "hello Usman\n"
     ]
    }
   ],
   "source": [
    "n=input('name')\n",
    "greeting=('hello')\n",
    "print(greeting,n)"
   ]
  },
  {
   "cell_type": "code",
   "execution_count": 10,
   "metadata": {},
   "outputs": [
    {
     "name": "stdout",
     "output_type": "stream",
     "text": [
      "name Usman\n",
      "hello! Usman\n"
     ]
    }
   ],
   "source": [
    "n=input('name ')\n",
    "print('hello!', n)"
   ]
  },
  {
   "cell_type": "code",
   "execution_count": 12,
   "metadata": {},
   "outputs": [
    {
     "name": "stdout",
     "output_type": "stream",
     "text": [
      "what is your name? Usman\n",
      "how old are you? 21\n",
      "hey! Usman 21 oh you are still young\n"
     ]
    }
   ],
   "source": [
    "name=input('what is your name? ')\n",
    "age=input('how old are you? ')\n",
    "print('hey!',name,age,'oh you are still young.')"
   ]
  },
  {
   "cell_type": "markdown",
   "metadata": {},
   "source": [
    "**List**\n",
    "* Mutable\n",
    "  * Functions\n",
    "    * Append\n",
    "    * pop\n",
    "    * Insert\n",
    "    * Remove\n",
    "    * Reverse\n",
    "    * Extend\n",
    "    * Sort\n",
    "    * index\n",
    "    * min,max,sum\n",
    "    >for search we use _in_ function "
   ]
  },
  {
   "cell_type": "markdown",
   "metadata": {},
   "source": [
    "***Tuples***\n",
    "Tuples are immutable so they does'nt modify so,they are use in rare cases.\n",
    "   * Function\n",
    "      * Index\n",
    "      * Count"
   ]
  },
  {
   "cell_type": "markdown",
   "metadata": {},
   "source": [
    "**Set**\n",
    " * Function\n",
    "   * Difference\n",
    "   * Union\n",
    "   * intersection\n"
   ]
  },
  {
   "cell_type": "code",
   "execution_count": null,
   "metadata": {},
   "outputs": [],
   "source": []
  }
 ],
 "metadata": {
  "kernelspec": {
   "display_name": "Python 3",
   "language": "python",
   "name": "python3"
  },
  "language_info": {
   "codemirror_mode": {
    "name": "ipython",
    "version": 3
   },
   "file_extension": ".py",
   "mimetype": "text/x-python",
   "name": "python",
   "nbconvert_exporter": "python",
   "pygments_lexer": "ipython3",
   "version": "3.8.5"
  }
 },
 "nbformat": 4,
 "nbformat_minor": 4
}
